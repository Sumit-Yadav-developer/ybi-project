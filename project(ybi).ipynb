{
  "nbformat": 4,
  "nbformat_minor": 0,
  "metadata": {
    "colab": {
      "provenance": [],
      "authorship_tag": "ABX9TyNSRXF6pS5s+UD+5pt+swrn",
      "include_colab_link": true
    },
    "kernelspec": {
      "name": "python3",
      "display_name": "Python 3"
    },
    "language_info": {
      "name": "python"
    }
  },
  "cells": [
    {
      "cell_type": "markdown",
      "metadata": {
        "id": "view-in-github",
        "colab_type": "text"
      },
      "source": [
        "<a href=\"https://colab.research.google.com/github/Sumit-Yadav-developer/ybi-project/blob/main/project(ybi).ipynb\" target=\"_parent\"><img src=\"https://colab.research.google.com/assets/colab-badge.svg\" alt=\"Open In Colab\"/></a>"
      ]
    },
    {
      "cell_type": "markdown",
      "source": [
        "**Title of the Project**"
      ],
      "metadata": {
        "id": "ls_IvC9y6691"
      }
    },
    {
      "cell_type": "markdown",
      "source": [
        "**Objective** : Movie Recommendation System"
      ],
      "metadata": {
        "id": "5IlD4Ib77w5r"
      }
    },
    {
      "cell_type": "markdown",
      "source": [
        "**Data Source** : ybi foundation github dataset"
      ],
      "metadata": {
        "id": "_DOif2Ea7zeN"
      }
    },
    {
      "cell_type": "markdown",
      "source": [
        "**Program**"
      ],
      "metadata": {
        "id": "0MwIhSEM74wu"
      }
    },
    {
      "cell_type": "code",
      "source": [
        "import pandas as pd\n",
        "import numpy as np\n",
        "\n",
        "movies=pd.read_csv(\"https://raw.githubusercontent.com/YBI-Foundation/Dataset/main/Movies%20Recommendation.csv\")\n",
        "\n",
        "movies.head()\n",
        "movies.info()\n",
        "movies.shape\n",
        "movies.columns\n",
        "\n",
        "y=movies['Movie_Title']\n",
        "x=movies[['Movie_ID','Movie_Genre','Movie_Language','Movie_Budget','Movie_Popularity','Movie_Release_Date','Movie_Revenue','Movie_Runtime','Movie_Vote','Movie_Vote_Count',\n",
        "          'Movie_Homepage','Movie_Keywords','Movie_Overview','Movie_Production_House','Movie_Production_Country','Movie_Spoken_Language','Movie_Tagline','Movie_Cast','Movie_Crew','Movie_Director']]\n",
        "\n",
        "movies_features=movies[['Movie_Genre','Movie_Keywords','Movie_Tagline','Movie_Director','Movie_Cast']].fillna('')\n",
        "\n",
        "x=movies_features['Movie_Genre']+' '+movies_features['Movie_Keywords']+' '+movies_features['Movie_Tagline']+' '+movies_features['Movie_Director']+' '+movies_features['Movie_Cast']\n",
        "\n",
        "from sklearn.feature_extraction.text import TfidfVectorizer\n",
        "tfidf=TfidfVectorizer()\n",
        "x=tfidf.fit_transform(x)\n",
        "\n",
        "from sklearn.metrics.pairwise import cosine_similarity\n",
        "sim_score=cosine_similarity(x)\n",
        "\n",
        "movie_name=input(\"Enter Your Movie Name Here:\\n\")\n",
        "movie_title=movies['Movie_Title'].tolist()\n",
        "\n",
        "import difflib\n",
        "\n",
        "recommend=difflib.get_close_matches(movie_name, movie_title)\n",
        "close_match=recommend[0]\n",
        "print(close_match)\n",
        "\n",
        "index=movies[movies.Movie_Title==close_match]['Movie_ID'].values[0]\n",
        "print(index)\n",
        "recommend=list(enumerate(sim_score[index]))\n",
        "#print(recommend)\n",
        "\n",
        "#print(len(recommend))\n",
        "sim_movies=sorted(recommend,key=lambda x:x[1], reverse=True)\n",
        "\n",
        "print('Top 30 movies : \\n')\n",
        "\n",
        "i=1\n",
        "for movie in sim_movies:\n",
        "    index=movie[0]\n",
        "    title = movies[movies.index==index]['Movie_Title'].values[0]\n",
        "    if(i<31):\n",
        "        print(i, '.',title)\n",
        "        i+=1"
      ],
      "metadata": {
        "id": "UqDzWiVU7mgA"
      },
      "execution_count": 2,
      "outputs": []
    }
  ]
}